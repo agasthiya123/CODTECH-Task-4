{
  "nbformat": 4,
  "nbformat_minor": 0,
  "metadata": {
    "colab": {
      "provenance": []
    },
    "kernelspec": {
      "name": "python3",
      "display_name": "Python 3"
    },
    "language_info": {
      "name": "python"
    }
  },
  "cells": [
    {
      "cell_type": "code",
      "execution_count": 1,
      "metadata": {
        "id": "1J5o7Fljf2q1"
      },
      "outputs": [],
      "source": [
        "# Optional: Install libraries (uncomment if needed, but they are pre-installed in Colab)\n",
        "# !pip install scikit-learn pandas\n",
        "\n",
        "# Import the necessary libraries\n",
        "import pandas as pd\n",
        "from sklearn.model_selection import train_test_split\n",
        "from sklearn.feature_extraction.text import CountVectorizer\n",
        "from sklearn.naive_bayes import MultinomialNB\n",
        "from sklearn.metrics import accuracy_score, classification_report, confusion_matrix\n",
        "import matplotlib.pyplot as plt\n",
        "import seaborn as sns\n"
      ]
    },
    {
      "cell_type": "code",
      "source": [
        "# Create a dummy dataset as a dictionary\n",
        "data = {\n",
        "    'text': [\n",
        "        \"Hey John, are you available for a quick meeting at 2 PM?\",\n",
        "        \"Get your free gift card now! Click the link!\",\n",
        "        \"Urgent: Your account has been compromised. Log in to fix it.\",\n",
        "        \"Hi, can we reschedule our call?\",\n",
        "        \"Congratulations! You've won a brand new car!\",\n",
        "        \"Project report is due by Friday. Thanks!\",\n",
        "        \"Viagra deals! Lowest prices guaranteed!\",\n",
        "        \"Did you see the latest movie? Let's catch up.\",\n",
        "        \"You're a winner! Claim your prize now!\",\n",
        "        \"Reminder: Please submit your timesheet.\",\n",
        "    ],\n",
        "    'label': [\n",
        "        'ham', 'spam', 'spam', 'ham', 'spam', 'ham', 'spam', 'ham', 'spam', 'ham'\n",
        "    ]\n",
        "}\n",
        "\n",
        "# Create a DataFrame from the dictionary\n",
        "df = pd.DataFrame(data)\n",
        "\n",
        "# Display the first few rows of the DataFrame\n",
        "print(\"Initial Dataset:\")\n",
        "print(df.head())"
      ],
      "metadata": {
        "colab": {
          "base_uri": "https://localhost:8080/"
        },
        "id": "huU5OEJghhgL",
        "outputId": "1581ec1d-25a6-4588-8562-5ca609057d0a"
      },
      "execution_count": 2,
      "outputs": [
        {
          "output_type": "stream",
          "name": "stdout",
          "text": [
            "Initial Dataset:\n",
            "                                                text label\n",
            "0  Hey John, are you available for a quick meetin...   ham\n",
            "1       Get your free gift card now! Click the link!  spam\n",
            "2  Urgent: Your account has been compromised. Log...  spam\n",
            "3                    Hi, can we reschedule our call?   ham\n",
            "4       Congratulations! You've won a brand new car!  spam\n"
          ]
        }
      ]
    },
    {
      "cell_type": "code",
      "source": [
        "# Initialize the CountVectorizer\n",
        "vectorizer = CountVectorizer()\n",
        "\n",
        "# Fit the vectorizer to the email text and transform the text into a document-term matrix\n",
        "X = vectorizer.fit_transform(df['text'])\n",
        "y = df['label'] # Our labels (ham/spam)\n",
        "\n",
        "# Print the shape of the resulting feature matrix\n",
        "print(\"Shape of the vectorized data (features):\", X.shape)\n",
        "print(\"Vocabulary size:\", len(vectorizer.vocabulary_))\n"
      ],
      "metadata": {
        "colab": {
          "base_uri": "https://localhost:8080/"
        },
        "id": "uBfqwEcdh1U4",
        "outputId": "dbaaecf8-d9c9-4d83-f553-2a9c1ee4e14e"
      },
      "execution_count": 3,
      "outputs": [
        {
          "output_type": "stream",
          "name": "stdout",
          "text": [
            "Shape of the vectorized data (features): (10, 68)\n",
            "Vocabulary size: 68\n"
          ]
        }
      ]
    },
    {
      "cell_type": "code",
      "source": [
        "# Split the data into 80% training and 20% testing sets\n",
        "X_train, X_test, y_train, y_test = train_test_split(X, y, test_size=0.20, random_state=42)\n",
        "\n",
        "# Print the size of the new datasets\n",
        "print(\"Training set size:\", X_train.shape[0])\n",
        "print(\"Testing set size:\", X_test.shape[0])"
      ],
      "metadata": {
        "colab": {
          "base_uri": "https://localhost:8080/"
        },
        "id": "siHIUJ1FiGw-",
        "outputId": "b58c72eb-d7f2-4fb0-c5c7-a18f3f595162"
      },
      "execution_count": 4,
      "outputs": [
        {
          "output_type": "stream",
          "name": "stdout",
          "text": [
            "Training set size: 8\n",
            "Testing set size: 2\n"
          ]
        }
      ]
    },
    {
      "cell_type": "code",
      "source": [
        "# Initialize the Multinomial Naive Bayes classifier\n",
        "model = MultinomialNB()\n",
        "\n",
        "# Train the model using the training data\n",
        "model.fit(X_train, y_train)\n",
        "\n",
        "print(\"Model training complete.\")"
      ],
      "metadata": {
        "colab": {
          "base_uri": "https://localhost:8080/"
        },
        "id": "iek0C_IIiWmg",
        "outputId": "237f126f-a1ec-4631-d727-6b15a4d7ed43"
      },
      "execution_count": 5,
      "outputs": [
        {
          "output_type": "stream",
          "name": "stdout",
          "text": [
            "Model training complete.\n"
          ]
        }
      ]
    },
    {
      "cell_type": "code",
      "source": [
        "# Make predictions on the test set\n",
        "y_pred = model.predict(X_test)\n",
        "\n",
        "# Calculate and print evaluation metrics\n",
        "print(\"Model Evaluation:\")\n",
        "print(\"Accuracy:\", accuracy_score(y_test, y_pred))\n",
        "print(\"\\nClassification Report:\\n\", classification_report(y_test, y_pred))\n",
        "\n",
        "# Generate and plot the confusion matrix for better visualization\n",
        "cm = confusion_matrix(y_test, y_pred, labels=['ham', 'spam'])\n",
        "plt.figure(figsize=(6, 4))\n",
        "sns.heatmap(cm, annot=True, fmt='d', cmap='Blues', xticklabels=['ham', 'spam'], yticklabels=['ham', 'spam'])\n",
        "plt.title('Confusion Matrix')\n",
        "plt.ylabel('Actual Label')\n",
        "plt.xlabel('Predicted Label')\n",
        "plt.show()\n"
      ],
      "metadata": {
        "colab": {
          "base_uri": "https://localhost:8080/",
          "height": 618
        },
        "id": "D9jM9J90ipg7",
        "outputId": "a3c99df0-2816-4a62-99d4-6ad01b9b8b30"
      },
      "execution_count": 6,
      "outputs": [
        {
          "output_type": "stream",
          "name": "stdout",
          "text": [
            "Model Evaluation:\n",
            "Accuracy: 1.0\n",
            "\n",
            "Classification Report:\n",
            "               precision    recall  f1-score   support\n",
            "\n",
            "        spam       1.00      1.00      1.00         2\n",
            "\n",
            "    accuracy                           1.00         2\n",
            "   macro avg       1.00      1.00      1.00         2\n",
            "weighted avg       1.00      1.00      1.00         2\n",
            "\n"
          ]
        },
        {
          "output_type": "display_data",
          "data": {
            "text/plain": [
              "<Figure size 600x400 with 2 Axes>"
            ],
            "image/png": "[encoded data removed]"
          },
          "metadata": {}
        }
      ]
    },
    {
      "cell_type": "code",
      "source": [
        "# New emails to predict\n",
        "new_emails = [\n",
        "    \"You have won a free lottery ticket! Click now!\", # Should be spam\n",
        "    \"Can you please send me the report by the end of the day?\" # Should be ham\n",
        "]\n",
        "\n",
        "# Vectorize the new emails using the same vectorizer we used before\n",
        "new_emails_vectorized = vectorizer.transform(new_emails)\n",
        "\n",
        "# Make the predictions\n",
        "predictions = model.predict(new_emails_vectorized)\n",
        "\n",
        "# Display the predictions\n",
        "print(\"New email predictions:\")\n",
        "for i, email in enumerate(new_emails):\n",
        "    print(f\"Email: '{email}' -> Predicted as: {predictions[i]}\")\n"
      ],
      "metadata": {
        "colab": {
          "base_uri": "https://localhost:8080/"
        },
        "id": "nUXSeVh5jGzn",
        "outputId": "748142b4-55e8-4067-cfe7-6cf798b792f3"
      },
      "execution_count": 7,
      "outputs": [
        {
          "output_type": "stream",
          "name": "stdout",
          "text": [
            "New email predictions:\n",
            "Email: 'You have won a free lottery ticket! Click now!' -> Predicted as: spam\n",
            "Email: 'Can you please send me the report by the end of the day?' -> Predicted as: ham\n"
          ]
        }
      ]
    }
  ]
}